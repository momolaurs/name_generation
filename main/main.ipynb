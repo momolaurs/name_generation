{
  "cells": [
    {
      "cell_type": "code",
      "execution_count": null,
      "metadata": {
        "id": "7umgjVe9XlaN"
      },
      "outputs": [],
      "source": [
        "import torch #to make the model\n",
        "import torch.nn.functional as F\n",
        "import pandas as pd #reading the xls file with the modern names\n",
        "import matplotlib.pyplot as plt #creating the loss plot\n",
        "%matplotlib inline"
      ]
    },
    {
      "cell_type": "code",
      "execution_count": null,
      "metadata": {
        "colab": {
          "base_uri": "https://localhost:8080/"
        },
        "id": "CqdMIIdoNtY7",
        "outputId": "263bc411-9117-4894-abea-08c5667367ae"
      },
      "outputs": [
        {
          "output_type": "stream",
          "name": "stdout",
          "text": [
            "Downloading...\n",
            "From: https://drive.google.com/uc?id=1_x4_o961lfxQ46wHHN0YcBNH8ZURI_IO\n",
            "To: /content/nombres_por_edad_media.xls\n",
            "100% 5.15M/5.15M [00:00<00:00, 127MB/s]\n",
            "Downloading...\n",
            "From: https://drive.google.com/uc?id=1--wzxkim29aBgqy3WZHLnDcWdkzKXcfs\n",
            "To: /content/0_old_names_final.txt\n",
            "100% 7.27k/7.27k [00:00<00:00, 33.1MB/s]\n"
          ]
        }
      ],
      "source": [
        "import gdown\n",
        "\n",
        "!gdown 1_x4_o961lfxQ46wHHN0YcBNH8ZURI_IO #modern: nombres_por_edad_media.xls\n",
        "\n",
        "!gdown 1--wzxkim29aBgqy3WZHLnDcWdkzKXcfs #older: 0_old_names_final.txt"
      ]
    },
    {
      "cell_type": "code",
      "execution_count": null,
      "metadata": {
        "colab": {
          "base_uri": "https://localhost:8080/"
        },
        "id": "OV_RclEuPKj9",
        "outputId": "40c4462c-e263-473a-efae-321bd0342d85"
      },
      "outputs": [
        {
          "output_type": "stream",
          "name": "stdout",
          "text": [
            "1000\n",
            "carlos\n"
          ]
        }
      ],
      "source": [
        "#Function for obtaining names from excel sheet and converting to list\n",
        "def get_names(sheet_name):\n",
        "  df = pd.read_excel('nombres_por_edad_media.xls', sheet_name=sheet_name, skiprows=6) #Sheet name because there's a tab for each sex + skip the first 6 rows with text\n",
        "  filtered_names = df[df['Edad Media (*)'] <= 60]['Nombre'].tolist() #We only want the names with an average age lower than 60ys\n",
        "  filtered_names = filtered_names[:500] #We only keep the first 500 names\n",
        "  return [str(name).lower() for name in filtered_names]\n",
        "\n",
        "male_names = get_names('Hombres')\n",
        "female_names = get_names('Mujeres')\n",
        "\n",
        "#Combine into a single list\n",
        "names_modern = male_names + female_names\n",
        "print(len(names_modern))\n",
        "print(names_modern[10]) #Confirm correct formatting"
      ]
    },
    {
      "cell_type": "code",
      "execution_count": null,
      "metadata": {
        "colab": {
          "base_uri": "https://localhost:8080/"
        },
        "id": "gOYodYhRcFNw",
        "outputId": "80413a66-1f66-47c0-ef42-67fbd2d4eced"
      },
      "outputs": [
        {
          "output_type": "stream",
          "name": "stdout",
          "text": [
            "808\n",
            "['josefa', 'apolinar', 'maria magdalena', 'ceres', 'clotilde', 'ernesta', 'trifon', 'celso', 'saturnino de la cruz', 'lauro']\n"
          ]
        }
      ],
      "source": [
        "names_old = open('0_old_names_final.txt', 'r').read().splitlines()\n",
        "names_old = [name.lower() for name in names_old]\n",
        "print(len(names_old))\n",
        "print(names_old[:10]) #Confirm correct formatting"
      ]
    },
    {
      "cell_type": "code",
      "source": [
        "#########################################\n",
        "    ###### MODERN NAMES MODEL ######\n",
        "#########################################\n",
        "\n",
        "def name_generator(a_list):\n",
        "  separation = \"\\n\" + \"-\" * 40 + \"\\n\" #used along the function to better visualize the output\n",
        "  # build the vocabulary of characters and mappings to/from integers\n",
        "  chars = sorted(list(set(''.join(a_list))))\n",
        "  stoi = {s:i+1 for i,s in enumerate(chars)}\n",
        "  stoi['.'] = 0\n",
        "  itos = {i:s for s,i in stoi.items()}\n",
        "  print(f\"Character Vocabulary and Mapping: {itos}\")\n",
        "\n",
        "  print(separation)\n",
        "\n",
        "  # build the dataset\n",
        "  block_size = 3 #sets context length: how many characters do we take to predict the next one?\n",
        "  def build_dataset(words):\n",
        "    X, Y = [], [] #The 'X' are the input to the neural net, and the 'Y' are the labels for each example inside X\n",
        "\n",
        "    for w in words:\n",
        "      #print(w)\n",
        "      context = [0] * block_size #padded context of 0 tokens\n",
        "      for ch in w + '.': #iterate over all characters\n",
        "        ix = stoi[ch] #get the character in the sequence\n",
        "        X.append(context) # build out the array 'X' which stores the current context\n",
        "        Y.append(ix) #build out array 'Y' of the current character\n",
        "        context = context[1:] + [ix] #crop the context and append the new character in the sequence\n",
        "\n",
        "    X = torch.tensor(X)\n",
        "    Y = torch.tensor(Y) #this is the next character in the sequence we want to predict\n",
        "    print(X.shape, Y.shape)\n",
        "    return X, Y\n",
        "\n",
        "  #### split ####\n",
        "  import random\n",
        "  random.seed(23)\n",
        "  random.shuffle(a_list)\n",
        "  n1 = int(0.8*len(a_list)) #80% of words\n",
        "  n2 = int(0.9*len(a_list)) #90% of words\n",
        "\n",
        "  Xtr, Ytr = build_dataset(a_list[:n1]) #indexing up to n1 (80%) for TRAINING\n",
        "  Xdev, Ydev = build_dataset(a_list[n1:n2]) #indexing between n1 and n2 (80%-90%) for VALIDATION\n",
        "  Xte, Yte = build_dataset(a_list[n2:]) #indexing last 10% percent for TESTING\n",
        "\n",
        "  #########beginning of hyperparameters#############\n",
        "\n",
        "  g = torch.Generator().manual_seed(2147483647) #torch generator with manual seed for reproducibility\n",
        "\n",
        "  #matrix of embeddings -> lookup table. The integers index into the lookup table. First layer of NN.\n",
        "  C = torch.randn((29, 10), generator=g) #29 rows (number of chrs) in a 10-dimensional space (10 columns). Each of the 29 chrs will have a 10-dimensional embedding\n",
        "\n",
        "  #hidden layer\n",
        "  W1 = torch.randn((30, 100), generator=g) #the 30 matches the shape of the 'emb' (3 for the block size * 10 for the embedding size)\n",
        "  b1 = torch.randn(100, generator=g)\n",
        "\n",
        "  #softmax layer\n",
        "  W2 = torch.randn((100, 29), generator=g)\n",
        "  b2 = torch.randn(29, generator=g)\n",
        "\n",
        "  #clustered parameters\n",
        "  parameters = [C, W1, b1, W2, b2]\n",
        "\n",
        "  ###########end of hyperparameters################\n",
        "\n",
        "\n",
        "  for p in parameters: #setting the gradient requirement\n",
        "    p.requires_grad = True\n",
        "\n",
        "  #initializing lists for tracking metrics\n",
        "  lossi = []\n",
        "  stepi = []\n",
        "\n",
        "  print(separation)\n",
        "\n",
        "  for i in range(150000): #number of steps\n",
        "  # minibatch construct\n",
        "    ix = torch.randint(0, Xtr.shape[0], (32,))\n",
        "\n",
        "  #### forward pass ####\n",
        "    emb = C[Xtr[ix]]\n",
        "\n",
        "    #hidden layer of activations\n",
        "    h = torch.tanh(emb.view(-1, 30) @ W1 + b1) # By using -1, we are allowing pytorch to infer the real size by seeing the other value, instead of hardcoding it\n",
        "    logits = h @ W2 + b2 #defining logits: raw output of NN\n",
        "    loss = F.cross_entropy(logits, Ytr[ix]) #calculating loss\n",
        "    #print(loss.item())\n",
        "\n",
        "  #### backward pass ####\n",
        "    for p in parameters:\n",
        "      p.grad = None #set the gradients to 0\n",
        "    loss.backward() #populate the gradients\n",
        "\n",
        "    # update\n",
        "    lr = 0.7 if i < 75000 else 0.05 #step decay\n",
        "    for p in parameters:\n",
        "      p.data += -lr * p.grad #adjusting parameters based on gradient descent\n",
        "\n",
        "    # track stats\n",
        "    stepi.append(i)\n",
        "    lossi.append(loss.log10().item())\n",
        "\n",
        "  #Creating the plot\n",
        "  plt.plot(stepi, lossi)\n",
        "  plt.xlabel('Step')\n",
        "  plt.ylabel('Loss')\n",
        "  plt.title('Training Loss Over Steps')\n",
        "  plt.savefig('training_loss_plot.png')\n",
        "  plt.show()\n",
        "\n",
        "  print(separation)\n",
        "\n",
        "  # training loss\n",
        "  emb = C[Xtr] #Get embeddings\n",
        "  h = torch.tanh(emb.view(-1, 30) @ W1 + b1) # Apply tanh activation to hidden layer\n",
        "  logits = h @ W2 + b2 # Calculate raw output (logits) of the neural network\n",
        "  loss = F.cross_entropy(logits, Ytr) # Calculate the loss using cross-entropy\n",
        "  print(f\"Training loss: {loss}\")\n",
        "\n",
        "  # validation loss\n",
        "  emb = C[Xdev]\n",
        "  h = torch.tanh(emb.view(-1, 30) @ W1 + b1)\n",
        "  logits = h @ W2 + b2\n",
        "  loss = F.cross_entropy(logits, Ydev)\n",
        "  print(f\"Validation loss: {loss}\")\n",
        "\n",
        "  # test loss\n",
        "  emb = C[Xte]\n",
        "  h = torch.tanh(emb.view(-1, 30) @ W1 + b1)\n",
        "  logits = h @ W2 + b2\n",
        "  loss = F.cross_entropy(logits, Yte)\n",
        "  print(f\"Test loss: {loss}\")\n",
        "\n",
        "  print(separation)\n",
        "\n",
        "  # generation sample\n",
        "  print(\"Model's Generation Attempt:\")\n",
        "  generated_names = []\n",
        "  g = torch.Generator().manual_seed(2147483647)\n",
        "  for _ in range(50): #number of samples\n",
        "    out = []\n",
        "    context = [0] * block_size #initialize with all \"...\"\n",
        "    while True:\n",
        "      emb = C[torch.tensor([context])] #embed context using embedding table \"C\"\n",
        "      h = torch.tanh(emb.view(1, -1) @ W1 + b1) #project into hidden space\n",
        "      logits = h @ W2 + b2\n",
        "      probs = F.softmax(logits, dim=1) #calculate probabilities. Exponentiates the logits and makes them sum to 1, which avoid overflows.\n",
        "      ix = torch.multinomial(probs, num_samples=1, generator=g).item() #get next index\n",
        "      context = context[1:] + [ix] #shift context window to append the index\n",
        "      out.append(ix)\n",
        "      if ix == 0: #until we generate the 0th character again\n",
        "        break\n",
        "\n",
        "    generated_name = ''.join(itos[i] for i in out)\n",
        "    generated_names.append(generated_name)\n",
        "    print(generated_name)\n",
        "\n",
        "  return generated_names"
      ],
      "metadata": {
        "id": "4nMcYag_jpjK"
      },
      "execution_count": null,
      "outputs": []
    },
    {
      "cell_type": "code",
      "execution_count": null,
      "metadata": {
        "id": "2z9B_i7iYYBz",
        "colab": {
          "base_uri": "https://localhost:8080/",
          "height": 1000
        },
        "outputId": "9c55d288-ebfe-42a8-a15e-6c7311cca198"
      },
      "outputs": [
        {
          "output_type": "stream",
          "name": "stdout",
          "text": [
            "Character Vocabulary and Mapping: {1: ' ', 2: 'a', 3: 'b', 4: 'c', 5: 'd', 6: 'e', 7: 'f', 8: 'g', 9: 'h', 10: 'i', 11: 'j', 12: 'k', 13: 'l', 14: 'm', 15: 'n', 16: 'o', 17: 'p', 18: 'q', 19: 'r', 20: 's', 21: 't', 22: 'u', 23: 'v', 24: 'w', 25: 'x', 26: 'y', 27: 'z', 28: 'ñ', 0: '.'}\n",
            "\n",
            "----------------------------------------\n",
            "\n",
            "torch.Size([6885, 3]) torch.Size([6885])\n",
            "torch.Size([863, 3]) torch.Size([863])\n",
            "torch.Size([831, 3]) torch.Size([831])\n",
            "\n",
            "----------------------------------------\n",
            "\n"
          ]
        },
        {
          "output_type": "display_data",
          "data": {
            "text/plain": [
              "<Figure size 640x480 with 1 Axes>"
            ],
            "image/png": "[encoded data removed]"
          },
          "metadata": {}
        },
        {
          "output_type": "stream",
          "name": "stdout",
          "text": [
            "\n",
            "----------------------------------------\n",
            "\n",
            "Training loss: 1.2209516763687134\n",
            "Validation loss: 2.332287549972534\n",
            "Test loss: 2.2736868858337402\n",
            "\n",
            "----------------------------------------\n",
            "\n",
            "Model's Generation Attempt:\n",
            "iñoanicoluis francesa.\n",
            "abdel.\n",
            "rosa.\n",
            "sabila.\n",
            "maria.\n",
            "carmo juana carmen.\n",
            "abdell.\n",
            "hassica.\n",
            "maria.\n",
            "angelenostre.\n",
            "sendalle.\n",
            "moham.\n",
            "vicens.\n",
            "pabel.\n",
            "cardo.\n",
            "bega.\n",
            "isa isabel.\n",
            "jea.\n",
            "xerardo.\n",
            "oria ines.\n",
            "ericiac.\n",
            "naiam.\n",
            "sar.\n",
            "blasio miguels.\n",
            "ismaria.\n",
            "ham.\n",
            "aida.\n",
            "aida.\n",
            "ibai.\n",
            "joaquel.\n",
            "jose jose.\n",
            "virgina.\n",
            "sabel.\n",
            "juana.\n",
            "karia.\n",
            "anationat.\n",
            "sganil.\n",
            "sar eder.\n",
            "maria eurena.\n",
            "jesrael.\n",
            "youna.\n",
            "mad.\n",
            "jesusando.\n",
            "abeltrancisce min.\n",
            "sar.\n",
            "cyntiana.\n",
            "josef.\n",
            "mas.\n",
            "yagore.\n",
            "saura.\n"
          ]
        }
      ],
      "source": [
        "model_modern = name_generator(names_modern)"
      ]
    },
    {
      "cell_type": "code",
      "execution_count": null,
      "metadata": {
        "id": "QCas7anGdFe7",
        "colab": {
          "base_uri": "https://localhost:8080/",
          "height": 1000
        },
        "outputId": "a1f5e2f7-1b1a-475d-bcc2-c99f2cf28343"
      },
      "outputs": [
        {
          "output_type": "stream",
          "name": "stdout",
          "text": [
            "Character Vocabulary and Mapping: {1: ' ', 2: 'a', 3: 'b', 4: 'c', 5: 'd', 6: 'e', 7: 'f', 8: 'g', 9: 'h', 10: 'i', 11: 'j', 12: 'l', 13: 'm', 14: 'n', 15: 'o', 16: 'p', 17: 'q', 18: 'r', 19: 's', 20: 't', 21: 'u', 22: 'v', 23: 'x', 24: 'y', 25: 'z', 26: 'ñ', 0: '.'}\n",
            "\n",
            "----------------------------------------\n",
            "\n",
            "torch.Size([5820, 3]) torch.Size([5820])\n",
            "torch.Size([711, 3]) torch.Size([711])\n",
            "torch.Size([725, 3]) torch.Size([725])\n",
            "\n",
            "----------------------------------------\n",
            "\n"
          ]
        },
        {
          "output_type": "display_data",
          "data": {
            "text/plain": [
              "<Figure size 640x480 with 1 Axes>"
            ],
            "image/png": "[encoded data removed]"
          },
          "metadata": {}
        },
        {
          "output_type": "stream",
          "name": "stdout",
          "text": [
            "\n",
            "----------------------------------------\n",
            "\n",
            "Training loss: 1.34019136428833\n",
            "Validation loss: 2.7882773876190186\n",
            "Test loss: 2.827613592147827\n",
            "\n",
            "----------------------------------------\n",
            "\n",
            "Model's Generation Attempt:\n",
            "manico.\n",
            "blania.\n",
            "isidesio.\n",
            "bara.\n",
            "charonio marita.\n",
            "macineto.\n",
            "vinalda.\n",
            "beniaco.\n",
            "lrinea.\n",
            "chito.\n",
            "berto.\n",
            "tanonriquito.\n",
            "oltasiano.\n",
            "toñito.\n",
            "iria.\n",
            "bericasro.\n",
            "bernino.\n",
            "cintano.\n",
            "heroniel.\n",
            "tobistaniel.\n",
            "onfingelio.\n",
            "emingora.\n",
            "maripena.\n",
            "tacio.\n",
            "juador.\n",
            "horacintanibaribeito.\n",
            "pura.\n",
            "patr.\n",
            "maria.\n",
            "paquita te de los antonio.\n",
            "alfonso.\n",
            "alfin.\n",
            "amparro.\n",
            "lucio.\n",
            "luis del pepa josedalian.\n",
            "nodo.\n",
            "ela.\n",
            "andro de la anto.\n",
            "isino.\n",
            "rico.\n",
            "pio.\n",
            "alfredorfena.\n",
            "marianleda.\n",
            "conso.\n",
            "vina.\n",
            "satuarine.\n",
            "epita.\n",
            "inda.\n",
            "macasio.\n",
            "nora.\n"
          ]
        }
      ],
      "source": [
        "model_older = name_generator(names_old)"
      ]
    },
    {
      "cell_type": "code",
      "source": [
        "#function to check how many of the generated names were in the original dataset\n",
        "def names_in_ds(generated, dataset):\n",
        "  in_ds = []\n",
        "  no_period = [name.replace('.', '') for name in generated]\n",
        "  for item in no_period:\n",
        "    if item in dataset:\n",
        "      in_ds.append(item)\n",
        "    else:\n",
        "      pass\n",
        "  print(f\"{len(in_ds)} out of {len(generated)} generated names were in the original dataset\")\n",
        "  print(f\"Names in the original dataset: {in_ds}\")\n",
        "  return \"Nice!\""
      ],
      "metadata": {
        "id": "GQUxncp1FZ40"
      },
      "execution_count": null,
      "outputs": []
    },
    {
      "cell_type": "code",
      "source": [
        "print(names_in_ds(model_modern, names_modern))"
      ],
      "metadata": {
        "id": "n5W0I4VCEzOH",
        "colab": {
          "base_uri": "https://localhost:8080/"
        },
        "outputId": "a49dad0f-f6f6-40bb-c67e-c311364dda84"
      },
      "execution_count": null,
      "outputs": [
        {
          "output_type": "stream",
          "name": "stdout",
          "text": [
            "8 out of 50 generated names were in the original dataset\n",
            "Names in the original dataset: ['nora', 'maria', 'francisco', 'lia', 'jose miguel', 'borja', 'maria', 'erica']\n",
            "Nice!\n",
            "['iñiga.', 'jose paz.', 'olga manuel.', 'ergina.', 'nora.', 'ritania.', 'maria.', 'vianandro joa.', 'mon.', 'vian.', 'jrune.']\n"
          ]
        }
      ]
    },
    {
      "cell_type": "code",
      "source": [
        "print(names_in_ds(model_older, names_old))"
      ],
      "metadata": {
        "id": "q-uM4EdNBmaK",
        "colab": {
          "base_uri": "https://localhost:8080/"
        },
        "outputId": "b1564fbc-85d7-4f9b-f85d-e4060cf9d281"
      },
      "execution_count": null,
      "outputs": [
        {
          "output_type": "stream",
          "name": "stdout",
          "text": [
            "2 out of 50 generated names were in the original dataset\n",
            "Names in the original dataset: ['pablito', 'ramon']\n",
            "Nice!\n"
          ]
        }
      ]
    },
    {
      "cell_type": "code",
      "source": [
        "# References:\n",
        "# [1] Karpathy, A. (2022). makemore. Retrieved from https://github.com/karpathy/makemore. Last accessed on March 1, 2024.\n",
        "# [2] Instituto Nacional de Estadística. (2023). Todos los nombres con frecuencia igual o mayor a 20 personas. Last accessed on March 1, 2024. https://www.ine.es/uc/nDER2igi\n",
        "# [3] José Calvo Tello (Comp.) (2017). Corpus de novelas de la Edad de Plata Würzburg: CLiGS, 2017. Last accessed on February 29, 2024. https://github.com/cligs/textbox/tree/master/spanish/novela-espanola"
      ],
      "metadata": {
        "id": "aUX8HYYyMBTT"
      },
      "execution_count": null,
      "outputs": []
    }
  ],
  "metadata": {
    "colab": {
      "provenance": [],
      "gpuType": "T4"
    },
    "kernelspec": {
      "display_name": "Python 3",
      "name": "python3"
    },
    "language_info": {
      "name": "python"
    },
    "accelerator": "GPU"
  },
  "nbformat": 4,
  "nbformat_minor": 0
}